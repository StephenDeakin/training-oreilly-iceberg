{
 "cells": [
  {
   "cell_type": "code",
   "execution_count": 1,
   "id": "9a31192f",
   "metadata": {},
   "outputs": [
    {
     "name": "stdout",
     "output_type": "stream",
     "text": [
      "[['d359b932bd8a', 'http://172.18.0.3:8080', '406', True, 'active']]\n"
     ]
    }
   ],
   "source": [
    "from trino.dbapi import connect\n",
    "\n",
    "trino_connection = connect(\n",
    "    host=\"trino\",\n",
    "    port=8080,\n",
    "    user=\"iceberg\",\n",
    "    #catalog=\"<catalog>\",\n",
    "    #schema=\"<schema>\",\n",
    ")\n",
    "trino = trino_connection.cursor()\n",
    "trino.execute(\"SELECT * FROM system.runtime.nodes\")\n",
    "rows = cur.fetchall()\n",
    "print(rows)"
   ]
  },
  {
   "cell_type": "code",
   "execution_count": 1,
   "id": "32c5f8bc",
   "metadata": {},
   "outputs": [
    {
     "name": "stdout",
     "output_type": "stream",
     "text": [
      "Version 1.11.1 of Apache Avro\n",
      "Copyright 2010-2015 The Apache Software Foundation\n",
      "\n",
      "This product includes software developed at\n",
      "The Apache Software Foundation (https://www.apache.org/).\n",
      "----------------\n",
      "Available tools:\n",
      "    canonical  Converts an Avro Schema to its canonical form\n",
      "          cat  Extracts samples from files\n",
      "      compile  Generates Java code for the given schema.\n",
      "       concat  Concatenates avro files without re-compressing.\n",
      "        count  Counts the records in avro files or folders\n",
      "  fingerprint  Returns the fingerprint for the schemas.\n",
      "   fragtojson  Renders a binary-encoded Avro datum as JSON.\n",
      "     fromjson  Reads JSON records and writes an Avro data file.\n",
      "     fromtext  Imports a text file into an avro data file.\n",
      "      getmeta  Prints out the metadata of an Avro data file.\n",
      "    getschema  Prints out schema of an Avro data file.\n",
      "          idl  Generates a JSON schema from an Avro IDL file\n",
      " idl2schemata  Extract JSON schemata of the types from an Avro IDL file\n",
      "       induce  Induce schema/protocol from Java class/interface via reflection.\n",
      "   jsontofrag  Renders a JSON-encoded Avro datum as binary.\n",
      "       random  Creates a file with randomly generated instances of a schema.\n",
      "      recodec  Alters the codec of a data file.\n",
      "       repair  Recovers data from a corrupt Avro Data file\n",
      "  rpcprotocol  Output the protocol of a RPC service\n",
      "   rpcreceive  Opens an RPC Server and listens for one message.\n",
      "      rpcsend  Sends a single RPC message.\n",
      "       tether  Run a tethered mapreduce job.\n",
      "       tojson  Dumps an Avro data file as JSON, record per line or pretty.\n",
      "       totext  Converts an Avro data file to a text file.\n",
      "     totrevni  Converts an Avro data file to a Trevni file.\n",
      "  trevni_meta  Dumps a Trevni file's metadata as JSON.\n",
      "trevni_random  Create a Trevni file filled with random instances of a schema.\n",
      "trevni_tojson  Dumps a Trevni file as JSON.\n"
     ]
    }
   ],
   "source": [
    "# first of all, let's check that avro tools work\n",
    "\n",
    "!avro"
   ]
  },
  {
   "cell_type": "code",
   "execution_count": 2,
   "id": "1ea2dc06",
   "metadata": {},
   "outputs": [
    {
     "ename": "ModuleNotFoundError",
     "evalue": "No module named 'pyhive'",
     "output_type": "error",
     "traceback": [
      "\u001b[0;31m---------------------------------------------------------------------------\u001b[0m",
      "\u001b[0;31mModuleNotFoundError\u001b[0m                       Traceback (most recent call last)",
      "Cell \u001b[0;32mIn[2], line 1\u001b[0m\n\u001b[0;32m----> 1\u001b[0m \u001b[38;5;28;01mfrom\u001b[39;00m \u001b[38;5;21;01mpyhive\u001b[39;00m \u001b[38;5;28;01mimport\u001b[39;00m hive\n\u001b[1;32m      2\u001b[0m \u001b[38;5;28;01mfrom\u001b[39;00m \u001b[38;5;21;01mtime\u001b[39;00m \u001b[38;5;28;01mimport\u001b[39;00m sleep\n\u001b[1;32m      5\u001b[0m \u001b[38;5;66;03m# A simple loop waiting for the Hive to become available\u001b[39;00m\n",
      "\u001b[0;31mModuleNotFoundError\u001b[0m: No module named 'pyhive'"
     ]
    }
   ],
   "source": [
    "from pyhive import hive\n",
    "from time import sleep\n",
    "\n",
    "\n",
    "# A simple loop waiting for the Hive to become available\n",
    "while True:\n",
    "    try:\n",
    "        h = hive.Connection(host='hiveserver2', port=10000).cursor()\n",
    "        h.execute('SHOW SCHEMAS')\n",
    "        print(\"\")\n",
    "        print(\"## HIVE WORKS! Existing schemas: {} ##\".format(h.fetchall()))\n",
    "        break\n",
    "    except Exception as e:\n",
    "        print(\"Waiting 10s for hive to start...\")\n",
    "        sleep(10)"
   ]
  },
  {
   "cell_type": "code",
   "execution_count": null,
   "id": "fa1628b6",
   "metadata": {},
   "outputs": [],
   "source": [
    "# create a test table\n",
    "\n",
    "h.execute('CREATE TABLE IF NOT EXISTS default.test (id int, name string) STORED AS ORC')\n",
    "h.execute('SHOW TABLES FROM default')\n",
    "h.fetchall()"
   ]
  },
  {
   "cell_type": "code",
   "execution_count": null,
   "id": "24263d2e",
   "metadata": {},
   "outputs": [],
   "source": [
    "# insert some data into the test table to verify that the ./_data folder is writable\n",
    "\n",
    "h.execute('INSERT INTO default.test VALUES (1, \"Jane\"), (2, \"Joe\")')\n",
    "h.execute('SELECT * FROM default.test')\n",
    "h.fetchall()"
   ]
  },
  {
   "cell_type": "code",
   "execution_count": null,
   "id": "aab740ea",
   "metadata": {},
   "outputs": [],
   "source": [
    "# remove the test table and its data\n",
    "\n",
    "h.execute('DROP TABLE default.test')\n",
    "h.execute('SHOW TABLES FROM default')\n",
    "h.fetchall()"
   ]
  },
  {
   "cell_type": "code",
   "execution_count": null,
   "id": "bb10d2a2",
   "metadata": {},
   "outputs": [],
   "source": [
    "# create Hive schema for iceberg tables\n",
    "\n",
    "h.execute('CREATE SCHEMA IF NOT EXISTS iceberg')\n",
    "h.execute('SHOW SCHEMAS')\n",
    "h.fetchall()"
   ]
  }
 ],
 "metadata": {
  "kernelspec": {
   "display_name": "Python 3 (ipykernel)",
   "language": "python",
   "name": "python3"
  },
  "language_info": {
   "codemirror_mode": {
    "name": "ipython",
    "version": 3
   },
   "file_extension": ".py",
   "mimetype": "text/x-python",
   "name": "python",
   "nbconvert_exporter": "python",
   "pygments_lexer": "ipython3",
   "version": "3.10.6"
  }
 },
 "nbformat": 4,
 "nbformat_minor": 5
}
