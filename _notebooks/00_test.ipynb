{
 "cells": [
  {
   "cell_type": "code",
   "execution_count": null,
   "id": "32c5f8bc",
   "metadata": {},
   "outputs": [],
   "source": [
    "# first of all, let's check that avro tools work\n",
    "\n",
    "!avro"
   ]
  },
  {
   "cell_type": "code",
   "execution_count": null,
   "id": "1ea2dc06",
   "metadata": {},
   "outputs": [],
   "source": [
    "from pyhive import hive\n",
    "from time import sleep\n",
    "\n",
    "\n",
    "# A simple loop waiting for the Hive to become available\n",
    "while True:\n",
    "    try:\n",
    "        h = hive.Connection(host='hiveserver2', port=10000).cursor()\n",
    "        h.execute('SHOW SCHEMAS')\n",
    "        print(\"\")\n",
    "        print(\"## HIVE WORKS! Existing schemas: {} ##\".format(h.fetchall()))\n",
    "        break\n",
    "    except Exception as e:\n",
    "        print(\"Waiting 10s for hive to start...\")\n",
    "        sleep(10)"
   ]
  },
  {
   "cell_type": "code",
   "execution_count": null,
   "id": "fa1628b6",
   "metadata": {},
   "outputs": [],
   "source": [
    "# create a test table\n",
    "\n",
    "h.execute('CREATE TABLE IF NOT EXISTS default.test (id int, name string) STORED AS ORC')\n",
    "h.execute('SHOW TABLES FROM default')\n",
    "h.fetchall()"
   ]
  },
  {
   "cell_type": "code",
   "execution_count": null,
   "id": "24263d2e",
   "metadata": {},
   "outputs": [],
   "source": [
    "# insert some data into the test table to verify that the ./_data folder is writable\n",
    "\n",
    "h.execute('INSERT INTO default.test VALUES (1, \"Jane\"), (2, \"Joe\")')\n",
    "h.execute('SELECT * FROM default.test')\n",
    "h.fetchall()"
   ]
  },
  {
   "cell_type": "code",
   "execution_count": null,
   "id": "aab740ea",
   "metadata": {},
   "outputs": [],
   "source": [
    "# remove the test table and its data\n",
    "\n",
    "h.execute('DROP TABLE default.test')\n",
    "h.execute('SHOW TABLES FROM default')\n",
    "h.fetchall()"
   ]
  },
  {
   "cell_type": "code",
   "execution_count": null,
   "id": "bb10d2a2",
   "metadata": {},
   "outputs": [],
   "source": [
    "# create Hive schema for iceberg tables\n",
    "\n",
    "h.execute('CREATE SCHEMA IF NOT EXISTS iceberg')\n",
    "h.execute('SHOW SCHEMAS')\n",
    "h.fetchall()"
   ]
  }
 ],
 "metadata": {
  "kernelspec": {
   "display_name": "Python 3 (ipykernel)",
   "language": "python",
   "name": "python3"
  },
  "language_info": {
   "codemirror_mode": {
    "name": "ipython",
    "version": 3
   },
   "file_extension": ".py",
   "mimetype": "text/x-python",
   "name": "python",
   "nbconvert_exporter": "python",
   "pygments_lexer": "ipython3",
   "version": "3.10.6"
  }
 },
 "nbformat": 4,
 "nbformat_minor": 5
}
