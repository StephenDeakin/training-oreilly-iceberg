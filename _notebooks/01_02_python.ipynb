{
 "cells": [
  {
   "cell_type": "code",
   "execution_count": 1,
   "id": "11be9775",
   "metadata": {},
   "outputs": [
    {
     "name": "stdout",
     "output_type": "stream",
     "text": [
      "total 0\r\n",
      "drwxr-xr-x  7 root root  224 Mar  4 12:52 data\r\n",
      "drwxr-xr-x 36 root root 1152 Mar  4 12:53 metadata\r\n"
     ]
    }
   ],
   "source": [
    "# list files and folders in the location of the table\n",
    "\n",
    "!ls -l /usr/local/hadoop/warehouse/bank_transfers/"
   ]
  },
  {
   "cell_type": "code",
   "execution_count": 4,
   "id": "5aa6641f",
   "metadata": {},
   "outputs": [
    {
     "name": "stdout",
     "output_type": "stream",
     "text": [
      "total 0\r\n",
      "drwxr-xr-x 4 root root 128 Mar  4 11:24 'timestamp_day=2019-11-14'\r\n",
      "drwxr-xr-x 4 root root 128 Mar  4 12:14 'timestamp_day=2022-11-14'\r\n",
      "drwxr-xr-x 4 root root 128 Mar  4 12:14 'timestamp_day=2022-11-15'\r\n",
      "drwxr-xr-x 4 root root 128 Mar  4 12:14 'timestamp_day=2022-11-17'\r\n",
      "drwxr-xr-x 4 root root 128 Mar  4 12:52 'timestamp_day=2022-12-01'\r\n"
     ]
    }
   ],
   "source": [
    "# the data folder\n",
    "\n",
    "!ls -l /usr/local/hadoop/warehouse/bank_transfers/data"
   ]
  },
  {
   "cell_type": "code",
   "execution_count": 3,
   "id": "f393c407",
   "metadata": {},
   "outputs": [
    {
     "name": "stdout",
     "output_type": "stream",
     "text": [
      "total 108\r\n",
      "-rw-r--r-- 1 root root 2507 Mar  4 11:24 00000-f916bee8-78e6-4dd9-aedf-675833d6f57e.metadata.json\r\n",
      "-rw-r--r-- 1 root root 3571 Mar  4 11:24 00001-b504896f-ae68-4da2-a6b3-652535a64a3f.metadata.json\r\n",
      "-rw-r--r-- 1 root root 4582 Mar  4 11:32 00002-0cff973b-9951-4b41-8c4f-2e2049160521.metadata.json\r\n",
      "-rw-r--r-- 1 root root 5590 Mar  4 12:14 00003-7e6516e8-2cb5-4365-805b-75b603c9309a.metadata.json\r\n",
      "-rw-r--r-- 1 root root 6598 Mar  4 12:52 00004-f876d760-0aae-410a-a9c3-a2b9aadd49ff.metadata.json\r\n",
      "-rw-r--r-- 1 root root 7609 Mar  4 12:53 00005-a950b278-c094-4ede-a148-ed036de175b9.metadata.json\r\n",
      "-rw-r--r-- 1 root root 6669 Mar  4 12:53 43c51054-5ce8-4d38-be2b-5cd8668f48d6-m0.avro\r\n",
      "-rw-r--r-- 1 root root 6479 Mar  4 12:53 43c51054-5ce8-4d38-be2b-5cd8668f48d6-m1.avro\r\n",
      "-rw-r--r-- 1 root root 6666 Mar  4 12:14 76496de8-a61a-4773-af93-a08c847c54fc-m0.avro\r\n",
      "-rw-r--r-- 1 root root 6478 Mar  4 12:52 87c94d52-1faf-440e-a8e1-c14b9706454a-m0.avro\r\n",
      "-rw-r--r-- 1 root root 6476 Mar  4 11:24 b56309c7-e352-4a2d-ba40-8fc3e3e82e68-m0.avro\r\n",
      "-rw-r--r-- 1 root root 6477 Mar  4 11:32 b6a71d61-fd2a-4093-a5d3-821db514303c-m0.avro\r\n",
      "-rw-r--r-- 1 root root 3778 Mar  4 11:24 snap-2746907607546786975-1-b56309c7-e352-4a2d-ba40-8fc3e3e82e68.avro\r\n",
      "-rw-r--r-- 1 root root 3861 Mar  4 12:52 snap-3405190307090044624-1-87c94d52-1faf-440e-a8e1-c14b9706454a.avro\r\n",
      "-rw-r--r-- 1 root root 3793 Mar  4 11:32 snap-5993786463064479871-1-b6a71d61-fd2a-4093-a5d3-821db514303c.avro\r\n",
      "-rw-r--r-- 1 root root 3795 Mar  4 12:14 snap-6461066575791651155-1-76496de8-a61a-4773-af93-a08c847c54fc.avro\r\n",
      "-rw-r--r-- 1 root root 3814 Mar  4 12:53 snap-7378494672306874711-1-43c51054-5ce8-4d38-be2b-5cd8668f48d6.avro\r\n"
     ]
    }
   ],
   "source": [
    "# the metadata folder\n",
    "\n",
    "!ls -l /usr/local/hadoop/warehouse/bank_transfers/metadata"
   ]
  },
  {
   "cell_type": "code",
   "execution_count": 7,
   "id": "a4ac841d",
   "metadata": {},
   "outputs": [
    {
     "name": "stdout",
     "output_type": "stream",
     "text": [
      "snapshot_id='2746907607546786975' timestamp_ms=1677929075442\n",
      "snapshot_id='5993786463064479871' timestamp_ms=1677929538540\n",
      "snapshot_id='6461066575791651155' timestamp_ms=1677932044219\n",
      "snapshot_id='3405190307090044624' timestamp_ms=1677934365430\n",
      "snapshot_id='7378494672306874711' timestamp_ms=1677934380982\n"
     ]
    }
   ],
   "source": [
    "# load the table using pure Python client\n",
    "\n",
    "from pyiceberg.catalog.hive import HiveCatalog\n",
    "\n",
    "\n",
    "catalog = HiveCatalog(name=\"iceberg\", uri=\"thrift://hivemetastore:9083\")\n",
    "table = catalog.load_table(\"default.bank_transfers\")\n",
    "\n",
    "for snapshot in table.history():\n",
    "    print(snapshot)"
   ]
  },
  {
   "cell_type": "code",
   "execution_count": null,
   "id": "fe71e74c",
   "metadata": {},
   "outputs": [],
   "source": []
  }
 ],
 "metadata": {
  "kernelspec": {
   "display_name": "Python 3 (ipykernel)",
   "language": "python",
   "name": "python3"
  },
  "language_info": {
   "codemirror_mode": {
    "name": "ipython",
    "version": 3
   },
   "file_extension": ".py",
   "mimetype": "text/x-python",
   "name": "python",
   "nbconvert_exporter": "python",
   "pygments_lexer": "ipython3",
   "version": "3.8.10"
  }
 },
 "nbformat": 4,
 "nbformat_minor": 5
}
