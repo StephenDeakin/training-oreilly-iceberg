{
 "cells": [
  {
   "cell_type": "code",
   "execution_count": 10,
   "id": "abd67ca0",
   "metadata": {},
   "outputs": [
    {
     "name": "stdout",
     "output_type": "stream",
     "text": [
      "data  metadata\r\n"
     ]
    }
   ],
   "source": [
    "!ls /usr/local/hadoop/warehouse/sample"
   ]
  },
  {
   "cell_type": "code",
   "execution_count": null,
   "id": "da499f5d",
   "metadata": {},
   "outputs": [],
   "source": [
    "from iceberg.hive import HiveTables\n",
    "from iceberg.api.schema import Schema\n",
    "from iceberg.api.types import TimestampType, DoubleType, StringType, NestedField\n",
    "from iceberg.api.partition_spec import PartitionSpecBuilder\n",
    "\n",
    "hive_conf = {\n",
    "    \"hive.metastore.uris\": 'thrift://hive_metastore:9083',\n",
    "    \"hive.metastore.warehouse.dir\": \"/usr/local/hadoop/warehouse\"\n",
    "}\n",
    "tables = HiveTables(hive_conf)\n",
    "\n",
    "table_schema = Schema(\n",
    "                 NestedField.optional(1, \"DateTime\", TimestampType.with_timezone()),\n",
    "                 NestedField.optional(2, \"Bid\", DoubleType.get()),\n",
    "                 NestedField.optional(3, \"Ask\", DoubleType.get()),\n",
    "                 NestedField.optional(4, \"symbol\", StringType.get()))\n",
    "\n",
    "partition_spec = PartitionSpecBuilder(table_schema).add(1, 1000, \"DateTime_day\", \"day\").build()\n",
    "\n",
    "table = tables.create(table_schema, \"iceberg.test_123\", partition_spec)"
   ]
  },
  {
   "cell_type": "code",
   "execution_count": 2,
   "id": "f4325e33",
   "metadata": {},
   "outputs": [],
   "source": [
    "# define Trino client\n",
    "from trino.dbapi import connect\n",
    "\n",
    "trino_connection = connect(\n",
    "    host=\"trino\",\n",
    "    port=8080,\n",
    "    user=\"iceberg\",\n",
    "    #catalog=\"<catalog>\",\n",
    "    #schema=\"<schema>\",\n",
    ")\n",
    "trino = trino_connection.cursor()"
   ]
  },
  {
   "cell_type": "code",
   "execution_count": 3,
   "id": "7b88a3f9",
   "metadata": {},
   "outputs": [
    {
     "name": "stdout",
     "output_type": "stream",
     "text": [
      "[['5bb73f80928c', 'http://172.18.0.4:8080', '406', True, 'active']]\n"
     ]
    }
   ],
   "source": [
    "rows = trino.execute(\"SELECT * FROM system.runtime.nodes\").fetchall()\n",
    "print(rows)"
   ]
  },
  {
   "cell_type": "code",
   "execution_count": 7,
   "id": "08008fd2",
   "metadata": {},
   "outputs": [
    {
     "name": "stdout",
     "output_type": "stream",
     "text": [
      "[[2, 'b'], [2, 'b'], [1, 'a'], [1, 'a']]\n"
     ]
    }
   ],
   "source": [
    "rows = trino.execute(\"SELECT * FROM iceberg.default.sample\").fetchall()\n",
    "print(rows)"
   ]
  },
  {
   "cell_type": "code",
   "execution_count": 4,
   "id": "26af54a7",
   "metadata": {},
   "outputs": [
    {
     "name": "stderr",
     "output_type": "stream",
     "text": [
      "WARNING: An illegal reflective access operation has occurred\n",
      "WARNING: Illegal reflective access by org.apache.spark.unsafe.Platform (file:/usr/local/lib/python3.10/dist-packages/pyspark/jars/spark-unsafe_2.12-3.2.3.jar) to constructor java.nio.DirectByteBuffer(long,int)\n",
      "WARNING: Please consider reporting this to the maintainers of org.apache.spark.unsafe.Platform\n",
      "WARNING: Use --illegal-access=warn to enable warnings of further illegal reflective access operations\n",
      "WARNING: All illegal access operations will be denied in a future release\n",
      "Using Spark's default log4j profile: org/apache/spark/log4j-defaults.properties\n",
      "Setting default log level to \"WARN\".\n",
      "To adjust logging level use sc.setLogLevel(newLevel). For SparkR, use setLogLevel(newLevel).\n",
      "23/02/12 13:34:01 WARN NativeCodeLoader: Unable to load native-hadoop library for your platform... using builtin-java classes where applicable\n"
     ]
    }
   ],
   "source": [
    "# define Spark client\n",
    "from pyspark.sql import SparkSession\n",
    "\n",
    "spark = SparkSession.builder \\\n",
    "    .config(\"spark.sql.warehouse.dir\", \"/usr/local/hadoop/warehouse\") \\\n",
    "    .config(\"spark.sql.catalog.iceberg\", \"org.apache.iceberg.spark.SparkCatalog\") \\\n",
    "    .config(\"spark.sql.catalog.iceberg.type\", \"hive\") \\\n",
    "    .config(\"spark.sql.catalog.iceberg.uri\", \"thrift://hivemetastore:9083\") \\\n",
    "    .config(\"spark.sql.catalog.iceberg.cache-enabled\", False) \\\n",
    "    .getOrCreate()"
   ]
  },
  {
   "cell_type": "code",
   "execution_count": null,
   "id": "e516c489",
   "metadata": {},
   "outputs": [],
   "source": []
  },
  {
   "cell_type": "code",
   "execution_count": 5,
   "id": "d5d790e5",
   "metadata": {},
   "outputs": [
    {
     "data": {
      "text/plain": [
       "DataFrame[]"
      ]
     },
     "execution_count": 5,
     "metadata": {},
     "output_type": "execute_result"
    }
   ],
   "source": [
    "spark.sql(\"\"\"\n",
    "    DROP TABLE if exists iceberg.default.sample\n",
    "\"\"\")\n",
    "spark.sql(\"\"\"\n",
    "    CREATE TABLE IF NOT EXISTS iceberg.default.sample (\n",
    "        id bigint,\n",
    "        data string\n",
    "    )\n",
    "    USING iceberg\n",
    "\"\"\")"
   ]
  },
  {
   "cell_type": "code",
   "execution_count": 7,
   "id": "c1309e72",
   "metadata": {},
   "outputs": [
    {
     "data": {
      "text/plain": [
       "DataFrame[]"
      ]
     },
     "execution_count": 7,
     "metadata": {},
     "output_type": "execute_result"
    }
   ],
   "source": [
    "spark.sql(\"\"\"\n",
    "INSERT INTO iceberg.default.sample VALUES (1, 'a'), (2, 'b')\n",
    "\"\"\")"
   ]
  },
  {
   "cell_type": "code",
   "execution_count": 8,
   "id": "c8427618",
   "metadata": {},
   "outputs": [
    {
     "name": "stdout",
     "output_type": "stream",
     "text": [
      "+--------------------+\n",
      "|           file_path|\n",
      "+--------------------+\n",
      "|file:/usr/local/h...|\n",
      "|file:/usr/local/h...|\n",
      "|file:/usr/local/h...|\n",
      "|file:/usr/local/h...|\n",
      "+--------------------+\n",
      "\n"
     ]
    }
   ],
   "source": [
    "spark.sql(\"\"\"\n",
    "SELECT file_path FROM iceberg.default.sample.all_data_files\n",
    "\"\"\").show()"
   ]
  },
  {
   "cell_type": "code",
   "execution_count": null,
   "id": "12ac522a",
   "metadata": {},
   "outputs": [],
   "source": []
  }
 ],
 "metadata": {
  "kernelspec": {
   "display_name": "Python 3 (ipykernel)",
   "language": "python",
   "name": "python3"
  },
  "language_info": {
   "codemirror_mode": {
    "name": "ipython",
    "version": 3
   },
   "file_extension": ".py",
   "mimetype": "text/x-python",
   "name": "python",
   "nbconvert_exporter": "python",
   "pygments_lexer": "ipython3",
   "version": "3.10.6"
  }
 },
 "nbformat": 4,
 "nbformat_minor": 5
}
