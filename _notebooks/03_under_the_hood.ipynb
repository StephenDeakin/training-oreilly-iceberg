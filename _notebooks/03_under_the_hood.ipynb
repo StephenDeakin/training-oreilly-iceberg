{
 "cells": [
  {
   "cell_type": "code",
   "execution_count": null,
   "id": "11be9775",
   "metadata": {},
   "outputs": [],
   "source": [
    "# list files and folders in the location of the table\n",
    "\n",
    "!ls -l /usr/local/hadoop/warehouse/bank_transfers/"
   ]
  },
  {
   "cell_type": "code",
   "execution_count": null,
   "id": "5aa6641f",
   "metadata": {},
   "outputs": [],
   "source": [
    "# the data folder\n",
    "\n",
    "!ls -l /usr/local/hadoop/warehouse/bank_transfers/data"
   ]
  },
  {
   "cell_type": "code",
   "execution_count": null,
   "id": "630a83d7",
   "metadata": {},
   "outputs": [],
   "source": [
    "# a data folder with a particular partition\n",
    "\n",
    "!ls -l \"/usr/local/hadoop/warehouse/bank_transfers/data/timestamp_day=2022-12-01\""
   ]
  },
  {
   "cell_type": "code",
   "execution_count": null,
   "id": "f393c407",
   "metadata": {},
   "outputs": [],
   "source": [
    "# the metadata folder\n",
    "\n",
    "!ls -l /usr/local/hadoop/warehouse/bank_transfers/metadata"
   ]
  },
  {
   "cell_type": "code",
   "execution_count": null,
   "id": "b42fcde0",
   "metadata": {},
   "outputs": [],
   "source": [
    "# inspect one of the manifest list files\n",
    "\n",
    "!java -jar /usr/bin/avro.jar tojson \"/usr/local/hadoop/warehouse/bank_transfers/metadata/snap-6461066575791651155-1-76496de8-a61a-4773-af93-a08c847c54fc.avro\" | jq"
   ]
  },
  {
   "cell_type": "code",
   "execution_count": null,
   "id": "5c68dd57",
   "metadata": {},
   "outputs": [],
   "source": [
    "# inspect one of the manifest files\n",
    "\n",
    "!java -jar /usr/bin/avro.jar tojson \"/usr/local/hadoop/warehouse/bank_transfers/metadata/b6a71d61-fd2a-4093-a5d3-821db514303c-m0.avro\" | jq"
   ]
  },
  {
   "cell_type": "code",
   "execution_count": null,
   "id": "ad6b87c6",
   "metadata": {},
   "outputs": [],
   "source": [
    "# inspect one of the JSON metadata files\n",
    "\n",
    "!cat \"/usr/local/hadoop/warehouse/bank_transfers/metadata/00000-f916bee8-78e6-4dd9-aedf-675833d6f57e.metadata.json\" | jq"
   ]
  }
 ],
 "metadata": {
  "kernelspec": {
   "display_name": "Python 3 (ipykernel)",
   "language": "python",
   "name": "python3"
  },
  "language_info": {
   "codemirror_mode": {
    "name": "ipython",
    "version": 3
   },
   "file_extension": ".py",
   "mimetype": "text/x-python",
   "name": "python",
   "nbconvert_exporter": "python",
   "pygments_lexer": "ipython3",
   "version": "3.8.10"
  }
 },
 "nbformat": 4,
 "nbformat_minor": 5
}
