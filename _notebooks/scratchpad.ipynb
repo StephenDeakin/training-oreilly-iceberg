{
 "cells": [
  {
   "cell_type": "code",
   "execution_count": null,
   "id": "ce329786",
   "metadata": {},
   "outputs": [],
   "source": [
    "# define Flink client\n",
    "from pyflink.datastream import StreamExecutionEnvironment\n",
    "from pyflink.table import StreamTableEnvironment\n",
    "#from pyflink.table import TableEnvironment\n",
    "#from pyflink.table.expressions import col\n",
    "\n",
    "env = StreamExecutionEnvironment.get_execution_environment()\n",
    "env.add_jars(\"file:///opt/iceberg-flink-runtime.jar\")\n",
    "\n",
    "flink = StreamTableEnvironment.create(env)\n",
    "\n",
    "flink.execute_sql(\"\"\"\n",
    "CREATE CATALOG iceberg WITH (\n",
    "  'type'='iceberg',\n",
    "  'catalog-type'='hive',\n",
    "  'uri'='thrift://hivemetastore:9083',\n",
    "  'clients'='5',\n",
    "  'property-version'='1',\n",
    "  'warehouse'='file://usr/local/hadoop/warehouse'\n",
    ")\n",
    "\"\"\")"
   ]
  },
  {
   "cell_type": "code",
   "execution_count": 1,
   "id": "f4325e33",
   "metadata": {},
   "outputs": [],
   "source": [
    "# define Trino client\n",
    "from trino.dbapi import connect\n",
    "\n",
    "trino_connection = connect(\n",
    "    host=\"trino\",\n",
    "    port=8080,\n",
    "    user=\"iceberg\",\n",
    "    #catalog=\"<catalog>\",\n",
    "    #schema=\"<schema>\",\n",
    ")\n",
    "trino = trino_connection.cursor()"
   ]
  },
  {
   "cell_type": "code",
   "execution_count": null,
   "id": "7b88a3f9",
   "metadata": {},
   "outputs": [],
   "source": [
    "rows = trino.execute(\"SELECT * FROM system.runtime.nodes\").fetchall()\n",
    "print(rows)"
   ]
  },
  {
   "cell_type": "code",
   "execution_count": 2,
   "id": "08008fd2",
   "metadata": {},
   "outputs": [
    {
     "name": "stdout",
     "output_type": "stream",
     "text": [
      "[[2, 'b'], [2, 'b'], [1, 'a'], [1, 'a']]\n"
     ]
    }
   ],
   "source": [
    "rows = trino.execute(\"SELECT * FROM iceberg.default.sample\").fetchall()\n",
    "print(rows)"
   ]
  },
  {
   "cell_type": "code",
   "execution_count": 11,
   "id": "26af54a7",
   "metadata": {},
   "outputs": [
    {
     "name": "stderr",
     "output_type": "stream",
     "text": [
      "WARNING: An illegal reflective access operation has occurred\n",
      "WARNING: Illegal reflective access by org.apache.spark.unsafe.Platform (file:/usr/local/lib/python3.8/dist-packages/pyspark/jars/spark-unsafe_2.12-3.2.3.jar) to constructor java.nio.DirectByteBuffer(long,int)\n",
      "WARNING: Please consider reporting this to the maintainers of org.apache.spark.unsafe.Platform\n",
      "WARNING: Use --illegal-access=warn to enable warnings of further illegal reflective access operations\n",
      "WARNING: All illegal access operations will be denied in a future release\n",
      "Using Spark's default log4j profile: org/apache/spark/log4j-defaults.properties\n",
      "Setting default log level to \"WARN\".\n",
      "To adjust logging level use sc.setLogLevel(newLevel). For SparkR, use setLogLevel(newLevel).\n",
      "23/02/16 19:36:26 WARN NativeCodeLoader: Unable to load native-hadoop library for your platform... using builtin-java classes where applicable\n"
     ]
    }
   ],
   "source": [
    "# define Spark client\n",
    "from pyspark.sql import SparkSession\n",
    "\n",
    "spark = SparkSession.builder \\\n",
    "    .config(\"spark.sql.warehouse.dir\", \"/usr/local/hadoop/warehouse\") \\\n",
    "    .config(\"spark.sql.catalog.iceberg\", \"org.apache.iceberg.spark.SparkCatalog\") \\\n",
    "    .config(\"spark.sql.catalog.iceberg.type\", \"hive\") \\\n",
    "    .config(\"spark.sql.catalog.iceberg.uri\", \"thrift://hivemetastore:9083\") \\\n",
    "    .config(\"spark.sql.catalog.iceberg.cache-enabled\", False) \\\n",
    "    .getOrCreate()"
   ]
  },
  {
   "cell_type": "code",
   "execution_count": null,
   "id": "d5d790e5",
   "metadata": {},
   "outputs": [],
   "source": [
    "spark.sql(\"\"\"\n",
    "    DROP TABLE if exists iceberg.default.sample\n",
    "\"\"\")\n",
    "spark.sql(\"\"\"\n",
    "    CREATE TABLE IF NOT EXISTS iceberg.default.sample (\n",
    "        id bigint,\n",
    "        data string\n",
    "    )\n",
    "    USING iceberg\n",
    "\"\"\")"
   ]
  },
  {
   "cell_type": "code",
   "execution_count": null,
   "id": "c1309e72",
   "metadata": {},
   "outputs": [],
   "source": [
    "spark.sql(\"\"\"\n",
    "INSERT INTO iceberg.default.sample VALUES (1, 'a'), (2, 'b')\n",
    "\"\"\")"
   ]
  },
  {
   "cell_type": "code",
   "execution_count": 12,
   "id": "c8427618",
   "metadata": {},
   "outputs": [
    {
     "name": "stdout",
     "output_type": "stream",
     "text": [
      "+--------------------+\n",
      "|           file_path|\n",
      "+--------------------+\n",
      "|file:/usr/local/h...|\n",
      "|file:/usr/local/h...|\n",
      "|file:/usr/local/h...|\n",
      "|file:/usr/local/h...|\n",
      "+--------------------+\n",
      "\n"
     ]
    }
   ],
   "source": [
    "spark.sql(\"\"\"\n",
    "SELECT file_path FROM iceberg.default.sample.all_data_files\n",
    "\"\"\").show()"
   ]
  },
  {
   "cell_type": "code",
   "execution_count": 25,
   "id": "12ac522a",
   "metadata": {},
   "outputs": [
    {
     "ename": "AttributeError",
     "evalue": "'SnapshotLogEntry' object has no attribute 'manifests'",
     "output_type": "error",
     "traceback": [
      "\u001b[0;31m---------------------------------------------------------------------------\u001b[0m",
      "\u001b[0;31mAttributeError\u001b[0m                            Traceback (most recent call last)",
      "Cell \u001b[0;32mIn[25], line 6\u001b[0m\n\u001b[1;32m      3\u001b[0m catalog \u001b[38;5;241m=\u001b[39m HiveCatalog(name\u001b[38;5;241m=\u001b[39m\u001b[38;5;124m\"\u001b[39m\u001b[38;5;124miceberg\u001b[39m\u001b[38;5;124m\"\u001b[39m, uri\u001b[38;5;241m=\u001b[39m\u001b[38;5;124m\"\u001b[39m\u001b[38;5;124mthrift://hivemetastore:9083\u001b[39m\u001b[38;5;124m\"\u001b[39m)\n\u001b[1;32m      4\u001b[0m table \u001b[38;5;241m=\u001b[39m catalog\u001b[38;5;241m.\u001b[39mload_table(\u001b[38;5;124m\"\u001b[39m\u001b[38;5;124mdefault.sample\u001b[39m\u001b[38;5;124m\"\u001b[39m)\n\u001b[0;32m----> 6\u001b[0m \u001b[38;5;28mprint\u001b[39m(\u001b[43mtable\u001b[49m\u001b[38;5;241;43m.\u001b[39;49m\u001b[43mhistory\u001b[49m\u001b[43m(\u001b[49m\u001b[43m)\u001b[49m\u001b[43m[\u001b[49m\u001b[38;5;241;43m0\u001b[39;49m\u001b[43m]\u001b[49m\u001b[38;5;241;43m.\u001b[39;49m\u001b[43mmanifests\u001b[49m())\n",
      "\u001b[0;31mAttributeError\u001b[0m: 'SnapshotLogEntry' object has no attribute 'manifests'"
     ]
    }
   ],
   "source": [
    "from pyiceberg.catalog.hive import HiveCatalog\n",
    "\n",
    "catalog = HiveCatalog(name=\"iceberg\", uri=\"thrift://hivemetastore:9083\")\n",
    "table = catalog.load_table(\"default.sample\")\n",
    "\n",
    "print(table.history()[0].manifests())"
   ]
  },
  {
   "cell_type": "code",
   "execution_count": null,
   "id": "f5d093c6",
   "metadata": {},
   "outputs": [],
   "source": []
  }
 ],
 "metadata": {
  "kernelspec": {
   "display_name": "Python 3 (ipykernel)",
   "language": "python",
   "name": "python3"
  },
  "language_info": {
   "codemirror_mode": {
    "name": "ipython",
    "version": 3
   },
   "file_extension": ".py",
   "mimetype": "text/x-python",
   "name": "python",
   "nbconvert_exporter": "python",
   "pygments_lexer": "ipython3",
   "version": "3.8.10"
  }
 },
 "nbformat": 4,
 "nbformat_minor": 5
}
