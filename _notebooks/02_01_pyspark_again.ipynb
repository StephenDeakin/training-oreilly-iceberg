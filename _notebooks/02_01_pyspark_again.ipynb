{
 "cells": [
  {
   "cell_type": "code",
   "execution_count": null,
   "id": "59027d32",
   "metadata": {},
   "outputs": [],
   "source": [
    "# define Spark client\n",
    "\n",
    "from pyspark.sql import SparkSession\n",
    "\n",
    "\n",
    "spark = SparkSession.builder \\\n",
    "    .config(\"spark.sql.warehouse.dir\", \"/usr/local/hadoop/warehouse\") \\\n",
    "    .config(\"spark.sql.catalog.iceberg\", \"org.apache.iceberg.spark.SparkCatalog\") \\\n",
    "    .config(\"spark.sql.catalog.iceberg.type\", \"hive\") \\\n",
    "    .config(\"spark.sql.catalog.iceberg.uri\", \"thrift://hivemetastore:9083\") \\\n",
    "    .config(\"spark.sql.catalog.iceberg.cache-enabled\", False) \\\n",
    "    .getOrCreate()\n",
    "\n",
    "spark.sparkContext.setLogLevel('ERROR')"
   ]
  },
  {
   "cell_type": "code",
   "execution_count": null,
   "id": "b7b17f28",
   "metadata": {},
   "outputs": [],
   "source": [
    "TODO:\n",
    "    - expand schema\n",
    "    - change partitioning scheme and insert more data\n",
    "    - delete column and recreate it to show it won't \"bring back\" old data\n",
    "    - perform time travel and show a self join or something to show what was inserted or removed"
   ]
  }
 ],
 "metadata": {
  "kernelspec": {
   "display_name": "Python 3 (ipykernel)",
   "language": "python",
   "name": "python3"
  },
  "language_info": {
   "codemirror_mode": {
    "name": "ipython",
    "version": 3
   },
   "file_extension": ".py",
   "mimetype": "text/x-python",
   "name": "python",
   "nbconvert_exporter": "python",
   "pygments_lexer": "ipython3",
   "version": "3.8.10"
  }
 },
 "nbformat": 4,
 "nbformat_minor": 5
}
