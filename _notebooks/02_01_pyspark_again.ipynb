{
 "cells": [
  {
   "cell_type": "code",
   "execution_count": 3,
   "id": "59027d32",
   "metadata": {},
   "outputs": [],
   "source": [
    "# define Spark client\n",
    "\n",
    "from pyspark.sql import SparkSession\n",
    "\n",
    "\n",
    "spark = SparkSession.builder \\\n",
    "    .config(\"spark.sql.warehouse.dir\", \"/usr/local/hadoop/warehouse\") \\\n",
    "    .config(\"spark.sql.catalog.iceberg\", \"org.apache.iceberg.spark.SparkCatalog\") \\\n",
    "    .config(\"spark.sql.catalog.iceberg.type\", \"hive\") \\\n",
    "    .config(\"spark.sql.catalog.iceberg.uri\", \"thrift://hivemetastore:9083\") \\\n",
    "    .config(\"spark.sql.catalog.iceberg.cache-enabled\", False) \\\n",
    "    .config(\"spark.sql.extensions\", \"org.apache.iceberg.spark.extensions.IcebergSparkSessionExtensions\") \\\n",
    "    .getOrCreate()\n",
    "\n",
    "spark.sparkContext.setLogLevel('ERROR')"
   ]
  },
  {
   "cell_type": "code",
   "execution_count": 4,
   "id": "4780a9de",
   "metadata": {},
   "outputs": [
    {
     "name": "stdout",
     "output_type": "stream",
     "text": [
      "+-------------------+-----------------------+\n",
      "|snapshot_id        |committed_at           |\n",
      "+-------------------+-----------------------+\n",
      "|171325975829668396 |2023-03-13 19:23:29.323|\n",
      "|9048732889309365881|2023-03-13 19:23:31.272|\n",
      "|2948771710917491439|2023-03-13 19:23:36.083|\n",
      "+-------------------+-----------------------+\n",
      "\n"
     ]
    }
   ],
   "source": [
    "# query existing snapshots\n",
    "\n",
    "spark.sql(\"\"\"\n",
    "SELECT snapshot_id, committed_at FROM iceberg.default.bank_transfers.snapshots\n",
    "ORDER BY committed_at           \n",
    "\"\"\").show(truncate=False)"
   ]
  },
  {
   "cell_type": "code",
   "execution_count": null,
   "id": "82d31119",
   "metadata": {},
   "outputs": [],
   "source": [
    "# query a snapshot using its id\n",
    "\n",
    "df_1 = spark.sql(\"\"\"\n",
    "SELECT * FROM iceberg.default.bank_transfers VERSION AS OF 5932334375850750706\n",
    "\"\"\")\n",
    "\n",
    "df_1.show(truncate=False)"
   ]
  },
  {
   "cell_type": "code",
   "execution_count": null,
   "id": "5d782209",
   "metadata": {
    "scrolled": false
   },
   "outputs": [],
   "source": [
    "# query a snapshot using its creation date\n",
    "\n",
    "df_2 = spark.sql(\"\"\"\n",
    "SELECT * FROM iceberg.default.bank_transfers TIMESTAMP AS OF '2023-03-12 22:02:34.091'\n",
    "\"\"\")\n",
    "\n",
    "df_2.show(truncate=False)"
   ]
  },
  {
   "cell_type": "code",
   "execution_count": null,
   "id": "0addbbd9",
   "metadata": {},
   "outputs": [],
   "source": [
    "# show the difference between the two\n",
    "\n",
    "df_2.subtract(df_1).show()"
   ]
  },
  {
   "cell_type": "code",
   "execution_count": 5,
   "id": "f4b6253b",
   "metadata": {},
   "outputs": [
    {
     "name": "stdout",
     "output_type": "stream",
     "text": [
      "+--------------------+------------+----------+-------+\n",
      "|partition           |record_count|file_count|spec_id|\n",
      "+--------------------+------------+----------+-------+\n",
      "|{2022-12-01, null}  |1           |1         |0      |\n",
      "|{2022-11-15, null}  |1           |1         |0      |\n",
      "|{2022-12-03, 463907}|1           |1         |1      |\n",
      "|{2022-11-17, null}  |1           |1         |0      |\n",
      "+--------------------+------------+----------+-------+\n",
      "\n"
     ]
    }
   ],
   "source": [
    "# expand partitioning scheme and insert more data, then list partitions\n",
    "\n",
    "spark.sql(\"\"\"\n",
    "ALTER TABLE iceberg.default.bank_transfers ADD PARTITION FIELD hours(timestamp)\n",
    "\"\"\")\n",
    "\n",
    "\n",
    "spark.sql(\"\"\"\n",
    "INSERT INTO iceberg.default.bank_transfers VALUES\n",
    "    (5, 2500, \"Charles B.\", \"GlobCorp Inc.\", TIMESTAMP\"2022-12-03T11:00:02\")\n",
    "\"\"\")\n",
    "\n",
    "\n",
    "spark.sql(\"\"\"\n",
    "SELECT * FROM iceberg.default.bank_transfers.partitions\n",
    "\"\"\").show(truncate=False)"
   ]
  },
  {
   "cell_type": "code",
   "execution_count": null,
   "id": "b7b17f28",
   "metadata": {},
   "outputs": [],
   "source": [
    "TODO:\n",
    "    - expand partitioning scheme and insert more data, then list partitions\n",
    "    - expand schema\n",
    "    - delete column and recreate it to show it won't \"bring back\" old data"
   ]
  }
 ],
 "metadata": {
  "kernelspec": {
   "display_name": "Python 3 (ipykernel)",
   "language": "python",
   "name": "python3"
  },
  "language_info": {
   "codemirror_mode": {
    "name": "ipython",
    "version": 3
   },
   "file_extension": ".py",
   "mimetype": "text/x-python",
   "name": "python",
   "nbconvert_exporter": "python",
   "pygments_lexer": "ipython3",
   "version": "3.8.10"
  }
 },
 "nbformat": 4,
 "nbformat_minor": 5
}
