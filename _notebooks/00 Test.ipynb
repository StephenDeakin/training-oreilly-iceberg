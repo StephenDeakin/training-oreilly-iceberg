{
 "cells": [
  {
   "cell_type": "code",
   "execution_count": null,
   "id": "1ea2dc06",
   "metadata": {},
   "outputs": [],
   "source": [
    "from pyhive import hive\n",
    "from os import getenv\n",
    "from time import sleep\n",
    "\n",
    "\n",
    "# A simple loop waiting for the Hive session to start\n",
    "while True:\n",
    "    try:\n",
    "        cursor = hive.Connection(host=getenv('HIVE_URL'), port=getenv('HIVE_PORT')).cursor()\n",
    "        cursor.execute('SHOW SCHEMAS')\n",
    "        print(\"Hive works! Existing schemas: {}\".format(cursor.fetchall()))\n",
    "        break\n",
    "    except Exception as e:\n",
    "        print(\"Waiting 10s for hive to start...\")\n",
    "        sleep(10)"
   ]
  }
 ],
 "metadata": {
  "kernelspec": {
   "display_name": "Python 3 (ipykernel)",
   "language": "python",
   "name": "python3"
  },
  "language_info": {
   "codemirror_mode": {
    "name": "ipython",
    "version": 3
   },
   "file_extension": ".py",
   "mimetype": "text/x-python",
   "name": "python",
   "nbconvert_exporter": "python",
   "pygments_lexer": "ipython3",
   "version": "3.9.5"
  }
 },
 "nbformat": 4,
 "nbformat_minor": 5
}
